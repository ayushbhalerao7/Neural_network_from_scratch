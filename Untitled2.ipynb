{
  "nbformat": 4,
  "nbformat_minor": 0,
  "metadata": {
    "colab": {
      "provenance": []
    },
    "kernelspec": {
      "name": "python3",
      "display_name": "Python 3"
    },
    "language_info": {
      "name": "python"
    }
  },
  "cells": [
    {
      "cell_type": "code",
      "execution_count": 1,
      "metadata": {
        "colab": {
          "base_uri": "https://localhost:8080/"
        },
        "id": "w8YPHOHARBJH",
        "outputId": "c5d3e607-0a58-49cd-ac00-457cc2525896"
      },
      "outputs": [
        {
          "output_type": "stream",
          "name": "stdout",
          "text": [
            "Epoch 0 - Loss: 0.37853975804034223\n",
            "Epoch 1000 - Loss: 0.10356971463184717\n",
            "Epoch 2000 - Loss: 0.03984865854516839\n",
            "Epoch 3000 - Loss: 0.017198227614620996\n",
            "Epoch 4000 - Loss: 0.009499252909144603\n",
            "Epoch 5000 - Loss: 0.006169289925946486\n",
            "Epoch 6000 - Loss: 0.004427968210695587\n",
            "Epoch 7000 - Loss: 0.0033921220542583574\n",
            "Epoch 8000 - Loss: 0.002718278805161685\n",
            "Epoch 9000 - Loss: 0.002250642079523132\n",
            "\n",
            "Predictions after training:\n",
            "[[0.00111981]\n",
            " [0.04413753]\n",
            " [0.03931587]\n",
            " [0.93562032]]\n"
          ]
        }
      ],
      "source": [
        "import numpy as np\n",
        "\n",
        "# Step 1: Sigmoid Activation Function\n",
        "def sigmoid(x):\n",
        "    return 1 / (1 + np.exp(-x))\n",
        "\n",
        "# Step 2: Derivative of Sigmoid Activation Function\n",
        "def sigmoid_derivative(x):\n",
        "    return x * (1 - x)\n",
        "\n",
        "# Step 3: Neural Network Class Definition\n",
        "class NeuralNetwork:\n",
        "    def __init__(self, input_size, hidden_size, output_size):  # Corrected method name\n",
        "        # Step 3a: Initialize network layer sizes\n",
        "        self.input_size = input_size\n",
        "        self.hidden_size = hidden_size\n",
        "        self.output_size = output_size\n",
        "\n",
        "        # Step 3b: Initialize weights and biases with small random values\n",
        "        self.weights_input_hidden = np.random.uniform(-1, 1, (input_size, hidden_size))\n",
        "        self.bias_hidden = np.random.uniform(-1, 1, (1, hidden_size))\n",
        "        self.weights_hidden_output = np.random.uniform(-1, 1, (hidden_size, output_size))\n",
        "        self.bias_output = np.random.uniform(-1, 1, (1, output_size))\n",
        "\n",
        "    def forward(self, X):\n",
        "        # Step 4: Forward pass\n",
        "        self.input_layer = X\n",
        "        self.hidden_layer_input = np.dot(self.input_layer, self.weights_input_hidden) + self.bias_hidden\n",
        "        self.hidden_layer_output = sigmoid(self.hidden_layer_input)\n",
        "        self.output_layer_input = np.dot(self.hidden_layer_output, self.weights_hidden_output) + self.bias_output\n",
        "        self.output_layer_output = sigmoid(self.output_layer_input)\n",
        "        return self.output_layer_output\n",
        "\n",
        "    def backward(self, X, y, learning_rate):\n",
        "        # Step 5: Backpropagation\n",
        "        error_output = y - self.output_layer_output\n",
        "        output_layer_delta = error_output * sigmoid_derivative(self.output_layer_output)\n",
        "        error_hidden = output_layer_delta.dot(self.weights_hidden_output.T)\n",
        "        hidden_layer_delta = error_hidden * sigmoid_derivative(self.hidden_layer_output)\n",
        "\n",
        "        self.weights_hidden_output += self.hidden_layer_output.T.dot(output_layer_delta) * learning_rate\n",
        "        self.bias_output += np.sum(output_layer_delta, axis=0, keepdims=True) * learning_rate\n",
        "        self.weights_input_hidden += X.T.dot(hidden_layer_delta) * learning_rate\n",
        "        self.bias_hidden += np.sum(hidden_layer_delta, axis=0, keepdims=True) * learning_rate\n",
        "\n",
        "    def train(self, X, y, epochs, learning_rate):\n",
        "        # Step 6: Training the network\n",
        "        for epoch in range(epochs):\n",
        "            self.forward(X)\n",
        "            self.backward(X, y, learning_rate)\n",
        "            if epoch % 1000 == 0:\n",
        "                loss = np.mean(np.square(y - self.output_layer_output))\n",
        "                print(f\"Epoch {epoch} - Loss: {loss}\")\n",
        "\n",
        "# Step 7: Main Program for AND Gate Problem\n",
        "if __name__ == \"__main__\":  # Corrected condition\n",
        "    # AND Gate Dataset\n",
        "    X = np.array([[0, 0], [0, 1], [1, 0], [1, 1]])\n",
        "    y = np.array([[0], [0], [0], [1]])\n",
        "\n",
        "    # Initialize the neural network\n",
        "    nn = NeuralNetwork(input_size=2, hidden_size=3, output_size=1)\n",
        "\n",
        "    # Train the network\n",
        "    nn.train(X, y, epochs=10000, learning_rate=0.05)\n",
        "\n",
        "    # Display predictions after training\n",
        "    print(\"\\nPredictions after training:\")\n",
        "    print(nn.forward(X))\n",
        "\n"
      ]
    }
  ]
}